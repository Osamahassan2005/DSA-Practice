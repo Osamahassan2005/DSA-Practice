{
 "cells": [
  {
   "cell_type": "code",
   "execution_count": 10,
   "id": "b8b6972e-012c-4068-8fc8-dc158ee3e2d8",
   "metadata": {},
   "outputs": [
    {
     "name": "stdout",
     "output_type": "stream",
     "text": [
      "store triangular:  [4, 3, 5, 1, 6, 2, 8, 0, 5, 9]\n",
      "retrieve triangular:  [[4, 0, 0, 0], [3, 5, 0, 0], [1, 6, 2, 0], [8, 0, 5, 9]]\n"
     ]
    }
   ],
   "source": [
    "#Q (a)\n",
    "def store_tri_ang(a):\n",
    "    n=len(a)  \n",
    "    u=[]\n",
    "    #i=0\n",
    "    for j in range(n): \n",
    "        for k in range(j+1): \n",
    "            u.append(a[j][k])\n",
    "    return u\n",
    "def retrieve_tri_ang(u,m):\n",
    "    n=len(m)\n",
    "    a=[[0]*n for _ in range(n)]\n",
    "    for j in range(n):\n",
    "        for k in range(n):\n",
    "            if k>j:\n",
    "                a[j][k]=0\n",
    "            else:\n",
    "                l=(j*(j+1))//2+k\n",
    "                a[j][k]=u[l]\n",
    "    return a\n",
    "a=[[4,0,0,0],[3,5,0,0],[1,6,2,0],[8,0,5,9]]\n",
    "u=store_trg(a)\n",
    "print('store triangular: ',u)\n",
    "r=retrieve_trg(u,a)\n",
    "print('retrieve triangular: ',r)"
   ]
  },
  {
   "cell_type": "markdown",
   "id": "48a6ecce-d8b3-434e-b2c3-0720fd48a1d8",
   "metadata": {},
   "source": [
    "##Q(c)\n",
    "1. Size of U :\n",
    "\n",
    "A tridiagonal matrix has non-zero elements only on:\n",
    "main diagonal → n elements\n",
    "upper diagonal → n-1 elements\n",
    "lower diagonal → n-1 elements\n",
    "So, total size of U = n + (n-1) + (n-1) = 3n – 2\n",
    "\n",
    "2. Index L if U[L] = B[J][K]:\n",
    "\n",
    "Each row j (0-based) can have up to 3 elements: (j, j-1), (j, j), (j, j+1)\n",
    "To find position L, count elements stored before row j, then add offset inside row j.\n",
    "L = 2j + k\n",
    "where:\n",
    "if k == j-1 → lower diagonal element\n",
    "if k == j → main diagonal element\n",
    "if k == j+1 → upper diagonal element"
   ]
  },
  {
   "cell_type": "code",
   "execution_count": 17,
   "id": "b36994e4-509c-4aec-90f1-c9d532b1f716",
   "metadata": {},
   "outputs": [
    {
     "name": "stdout",
     "output_type": "stream",
     "text": [
      "store tridigonal: [5, -7, 1, 4, 3, 9, -3, 6, 2, 4]\n",
      "retrieve tridigonal: [[5, -7, 0, 0], [1, 4, 3, 0], [0, 9, -3, 6], [0, 0, 2, 4]]\n"
     ]
    }
   ],
   "source": [
    "#Q (d)\n",
    "def store_tri_dig(b):\n",
    "    n=len(b)\n",
    "    u=[]\n",
    "    for j in range(n):\n",
    "        for k in range(n):\n",
    "            if b[j][k]!=0:\n",
    "                u.append(b[j][k])\n",
    "    return u\n",
    "#Q (e)\n",
    "def retrieve_tri_dig(u,m):\n",
    "    n=len(m)\n",
    "    b=[[0]*n for _ in range(n)]\n",
    "    i=0\n",
    "    for j in range(n):\n",
    "        for k in range(n):\n",
    "            if abs(j-k)<=1:\n",
    "                b[j][k]=u[i]\n",
    "                i+=1\n",
    "    return b\n",
    "b=[[5,-7,0,0],[1,4,3,0],[0,9,-3,6],[0,0,2,4]]\n",
    "u=store_tri_dig(b)\n",
    "print('store tridigonal:',u)\n",
    "r=retrieve_tri_dig(u,b)\n",
    "print('retrieve tridigonal:',r)"
   ]
  },
  {
   "cell_type": "code",
   "execution_count": 26,
   "id": "be6f5a4d-c9cb-46ce-908e-9756b6201fcb",
   "metadata": {},
   "outputs": [
    {
     "name": "stdout",
     "output_type": "stream",
     "text": [
      "Original Dense Matrix:\n",
      " [[1 0 0 0 2 0]\n",
      " [0 0 3 0 0 4]\n",
      " [5 0 0 6 0 0]]\n",
      "CSR Sparse Matrix Representation:\n",
      " <Compressed Sparse Row sparse matrix of dtype 'int64'\n",
      "\twith 6 stored elements and shape (3, 6)>\n",
      "  Coords\tValues\n",
      "  (0, 0)\t1\n",
      "  (0, 4)\t2\n",
      "  (1, 2)\t3\n",
      "  (1, 5)\t4\n",
      "  (2, 0)\t5\n",
      "  (2, 3)\t6\n",
      "Data (non-zero values): [1 2 3 4 5 6]\n",
      "Converted Back to Dense Matrix:\n",
      " [[1 0 0 0 2 0]\n",
      " [0 0 3 0 0 4]\n",
      " [5 0 0 6 0 0]]\n"
     ]
    }
   ],
   "source": [
    "#q (f)\n",
    "import numpy as np\n",
    "from scipy.sparse import csr_matrix\n",
    "dense_matrix = np.array([\n",
    "    [1, 0, 0, 0, 2, 0],\n",
    "    [0, 0, 3, 0, 0, 4],\n",
    "    [5, 0, 0, 6, 0, 0]\n",
    "])\n",
    "print(\"Original Dense Matrix:\\n\", dense_matrix)\n",
    "\n",
    "sparse_csr = csr_matrix(dense_matrix)\n",
    "print(\"CSR Sparse Matrix Representation:\\n\", sparse_csr)\n",
    "print(\"Data (non-zero values):\", sparse_csr.data)\n",
    "\n",
    "back_to_dense = sparse_csr.toarray()\n",
    "print(\"Converted Back to Dense Matrix:\\n\",back_to_dense)"
   ]
  },
  {
   "cell_type": "code",
   "execution_count": null,
   "id": "cfa06d21-9dad-4e46-8465-ff9196b84886",
   "metadata": {},
   "outputs": [],
   "source": []
  }
 ],
 "metadata": {
  "kernelspec": {
   "display_name": "Python 3 (ipykernel)",
   "language": "python",
   "name": "python3"
  },
  "language_info": {
   "codemirror_mode": {
    "name": "ipython",
    "version": 3
   },
   "file_extension": ".py",
   "mimetype": "text/x-python",
   "name": "python",
   "nbconvert_exporter": "python",
   "pygments_lexer": "ipython3",
   "version": "3.12.6"
  }
 },
 "nbformat": 4,
 "nbformat_minor": 5
}
