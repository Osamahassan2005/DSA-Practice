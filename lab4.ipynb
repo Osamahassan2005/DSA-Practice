{
 "cells": [
  {
   "cell_type": "code",
   "execution_count": 13,
   "id": "661ac634-ddf6-4ac9-9081-684213766afb",
   "metadata": {},
   "outputs": [],
   "source": [
    "#q1+2\n",
    "class Matrix:\n",
    "    def __init__(self):\n",
    "        self.c=[]\n",
    "    def mat_input(self,rows,cols,name):\n",
    "        m=[]\n",
    "        for i in range(rows):\n",
    "            row=[]\n",
    "            for j in range(cols):\n",
    "                n=int(input(f'Enter value for {name}[{i}][{j}]:'))\n",
    "                row.append(n)\n",
    "            m.append(row)\n",
    "        return m\n",
    "    def mat_mul(self,A,B):\n",
    "        rA,cA=len(A),len(A[0])\n",
    "        rB,cB=len(B),len(B[0])\n",
    "        self.c=[[0 for _ in range(cB)] for _ in range(rA)]\n",
    "        for i in range(rA):\n",
    "            for j in range(cB):\n",
    "                for k in range(cA):\n",
    "                    self.c[i][j]+=A[i][k]*B[k][j]\n",
    "        return self.c"
   ]
  },
  {
   "cell_type": "code",
   "execution_count": 15,
   "id": "3d293d86-654b-4833-8abb-bc29e5d69a70",
   "metadata": {},
   "outputs": [
    {
     "name": "stdin",
     "output_type": "stream",
     "text": [
      "Enter no of rows for matrix 1: 4\n",
      "Enter no of cols for matrix 1: 2\n",
      "Enter no of rows for matrix 2: 2\n",
      "Enter no of cols for matrix 2: 3\n",
      "Enter value for matrix_1[0][0]: 1\n",
      "Enter value for matrix_1[0][1]: 2\n",
      "Enter value for matrix_1[1][0]: 3\n",
      "Enter value for matrix_1[1][1]: 4\n",
      "Enter value for matrix_1[2][0]: 5\n",
      "Enter value for matrix_1[2][1]: 6\n",
      "Enter value for matrix_1[3][0]: 7\n",
      "Enter value for matrix_1[3][1]: 8\n",
      "Enter value for matrix_2[0][0]: 1\n",
      "Enter value for matrix_2[0][1]: 2\n",
      "Enter value for matrix_2[0][2]: 3\n",
      "Enter value for matrix_2[1][0]: 4\n",
      "Enter value for matrix_2[1][1]: 5\n",
      "Enter value for matrix_2[1][2]: 6\n"
     ]
    },
    {
     "name": "stdout",
     "output_type": "stream",
     "text": [
      "********************\n",
      "Result of Multiplication\n",
      "[9, 12, 15]\n",
      "[19, 26, 33]\n",
      "[29, 40, 51]\n",
      "[39, 54, 69]\n"
     ]
    }
   ],
   "source": [
    "rA=int(input('Enter no of rows for matrix 1:'))\n",
    "cA=int(input('Enter no of cols for matrix 1:'))\n",
    "rB=int(input('Enter no of rows for matrix 2:'))\n",
    "cB=int(input('Enter no of cols for matrix 2:'))\n",
    "\n",
    "if cA!=rB:\n",
    "    print('Matrix Multiplication is not possible (cols of A must equal to rows of B)')\n",
    "else: \n",
    "   m=Matrix()\n",
    "   A=m.mat_input(rA,cA,'matrix_1')\n",
    "   B=m.mat_input(rB,cB,'matrix_2')\n",
    "   \n",
    "   print('*'*20)\n",
    "   print('Result of Multiplication')\n",
    "   result=m.mat_mul(A,B)\n",
    "   for row in result:\n",
    "       print(row)"
   ]
  },
  {
   "cell_type": "code",
   "execution_count": 16,
   "id": "89a4189e-20c7-437c-bd5d-2b13e7077f0c",
   "metadata": {},
   "outputs": [
    {
     "name": "stdin",
     "output_type": "stream",
     "text": [
      "Enter no of rows for matrix 1: 3\n",
      "Enter no of cols for matrix 1: 2\n",
      "Enter no of rows for matrix 2: 2\n",
      "Enter no of cols for matrix 2: 2\n",
      "Enter value for matrix_1[0][0]: 1\n",
      "Enter value for matrix_1[0][1]: 2\n",
      "Enter value for matrix_1[1][0]: 3\n",
      "Enter value for matrix_1[1][1]: 4\n",
      "Enter value for matrix_1[2][0]: 5\n",
      "Enter value for matrix_1[2][1]: 6\n",
      "Enter value for matrix_2[0][0]: 1\n",
      "Enter value for matrix_2[0][1]: 2\n",
      "Enter value for matrix_2[1][0]: 3\n",
      "Enter value for matrix_2[1][1]: 4\n"
     ]
    },
    {
     "name": "stdout",
     "output_type": "stream",
     "text": [
      "********************\n",
      "Result of Multiplication - By Numpy\n",
      "[ 7 10]\n",
      "[15 22]\n",
      "[23 34]\n"
     ]
    }
   ],
   "source": [
    "#q3\n",
    "import numpy as np\n",
    "rA=int(input('Enter no of rows for matrix 1:'))\n",
    "cA=int(input('Enter no of cols for matrix 1:'))\n",
    "rB=int(input('Enter no of rows for matrix 2:'))\n",
    "cB=int(input('Enter no of cols for matrix 2:'))\n",
    "\n",
    "if cA!=rB:\n",
    "    print('Matrix Multiplication is not possible (cols of A must equal to rows of B)')\n",
    "else: \n",
    "   m=Matrix()\n",
    "   A=m.mat_input(rA,cA,'matrix_1')\n",
    "   B=m.mat_input(rB,cB,'matrix_2')\n",
    "   \n",
    "   print('*'*20)\n",
    "   print('Result of Multiplication - By Numpy')\n",
    "   result=np.matmul(A,B) # or A@B\n",
    "   for row in result:\n",
    "       print(row)"
   ]
  },
  {
   "cell_type": "code",
   "execution_count": null,
   "id": "62b8cfbc-853d-45a5-8d94-47cc0ed0ae39",
   "metadata": {},
   "outputs": [],
   "source": []
  }
 ],
 "metadata": {
  "kernelspec": {
   "display_name": "Python 3 (ipykernel)",
   "language": "python",
   "name": "python3"
  },
  "language_info": {
   "codemirror_mode": {
    "name": "ipython",
    "version": 3
   },
   "file_extension": ".py",
   "mimetype": "text/x-python",
   "name": "python",
   "nbconvert_exporter": "python",
   "pygments_lexer": "ipython3",
   "version": "3.12.6"
  }
 },
 "nbformat": 4,
 "nbformat_minor": 5
}
