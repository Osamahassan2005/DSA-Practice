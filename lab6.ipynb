{
 "cells": [
  {
   "cell_type": "code",
   "execution_count": 7,
   "id": "7c6d4759-0cd0-4387-ac25-97b330ba4cac",
   "metadata": {},
   "outputs": [
    {
     "name": "stdout",
     "output_type": "stream",
     "text": [
      "size before insertion: 0\n",
      "size after insertion: 5\n",
      "search 4: 4\n",
      "delete 5: True\n",
      "size after deletion: 4\n"
     ]
    }
   ],
   "source": [
    "class Node:\n",
    "    def __init__(self,info=None):\n",
    "        self.info=info\n",
    "        self.next=next\n",
    "class LinkedList:\n",
    "    def __init__(self):\n",
    "        self.head=Node()\n",
    "        self.tail=self.head\n",
    "        self.size=0\n",
    "    def insert(self,index,value):\n",
    "        cursor=self.head\n",
    "        steps=index if index < self.size else self.size\n",
    "        for _  in  range(steps):\n",
    "            cursor=cursor.next\n",
    "        new_node=Node(value)\n",
    "        new_node.next=cursor.next\n",
    "        cursor.next=new_node\n",
    "        if new_node.next is None:\n",
    "            self.tail=new_node\n",
    "        self.size+=1\n",
    "    def search(self,value):\n",
    "        N=self.head.next\n",
    "        while N is not None:\n",
    "            if N.info == value:\n",
    "                return N.info\n",
    "            N=N.next\n",
    "        return None\n",
    "    def delete(self,value):\n",
    "        if self.size==0:\n",
    "            return False\n",
    "        precursor=self.head\n",
    "        cursor=self.head.next\n",
    "        while cursor is not None:\n",
    "            if cursor.info == value:\n",
    "                precursor.next=cursor.next\n",
    "                if cursor is self.tail:\n",
    "                    self.tail=precursor\n",
    "                self.size-=1\n",
    "                return True\n",
    "            precursor=cursor\n",
    "            cursor=cursor.next\n",
    "        return False\n",
    "ll=LinkedList()\n",
    "print('size before insertion:',ll.size)\n",
    "values=[1,2,3,4,5]\n",
    "for i,val in enumerate(values):\n",
    "    ll.insert(i,val)\n",
    "print('size after insertion:',ll.size)\n",
    "print('search 4:',ll.search(4))\n",
    "print('delete 5:',ll.delete(5))\n",
    "print('size after deletion:',ll.size)"
   ]
  },
  {
   "cell_type": "code",
   "execution_count": null,
   "id": "34905523-84f3-4f40-81d2-20617e6ac725",
   "metadata": {},
   "outputs": [],
   "source": []
  }
 ],
 "metadata": {
  "kernelspec": {
   "display_name": "Python 3 (ipykernel)",
   "language": "python",
   "name": "python3"
  },
  "language_info": {
   "codemirror_mode": {
    "name": "ipython",
    "version": 3
   },
   "file_extension": ".py",
   "mimetype": "text/x-python",
   "name": "python",
   "nbconvert_exporter": "python",
   "pygments_lexer": "ipython3",
   "version": "3.12.6"
  }
 },
 "nbformat": 4,
 "nbformat_minor": 5
}
