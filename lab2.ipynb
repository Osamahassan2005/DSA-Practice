{
 "cells": [
  {
   "cell_type": "code",
   "execution_count": 32,
   "id": "b2ba45ef-ee24-492e-8ad4-bf741e5a2c76",
   "metadata": {},
   "outputs": [],
   "source": [
    "#Qno1\n",
    "class Manual:\n",
    "    def __init__(self,l=[0,2,4,6,8]):\n",
    "        self.l=l\n",
    "    def insert_man(self,data,pos):\n",
    "        l1=self.l[:pos]\n",
    "        l2=self.l[pos:]\n",
    "        l3=l1+[data]\n",
    "        l4=l3+l2\n",
    "        return l4\n",
    "    def search_man(self,data):\n",
    "        for i in range(len(self.l)):\n",
    "            if self.l[i] == data:\n",
    "                return i\n",
    "        return -1\n",
    "    def delete_man(self,data):\n",
    "        for i in range(len(self.l)):\n",
    "            if self.l[i] == data:\n",
    "                l1=self.l[:i]\n",
    "                l2=self.l[i+1:]\n",
    "                l3=l1+l2\n",
    "        return l3\n",
    "class Built_in:\n",
    "    def __init__(self,l=[0,2,4,6,8]):\n",
    "        self.l=l\n",
    "    def insert_blt(self,data,pos):\n",
    "        self.l.insert(data,pos)\n",
    "        return self.l\n",
    "    def search_blt(self,data):\n",
    "        return self.l.index(data)\n",
    "    def delete_blt(self,data):\n",
    "        self.l.remove(data)\n",
    "        return self.l"
   ]
  },
  {
   "cell_type": "code",
   "execution_count": 33,
   "id": "01b076d2-b6a1-42aa-bccd-7e8c114ff95d",
   "metadata": {},
   "outputs": [],
   "source": [
    "m=Manual()\n",
    "im=m.insert_man(3,2)\n",
    "sm=m.search_man(4)\n",
    "dm=m.delete_man(0)\n",
    "b=Built_in()\n",
    "ib=b.insert_blt(3,2)\n",
    "sb=b.search_blt(4)\n",
    "db=b.delete_blt(0)"
   ]
  },
  {
   "cell_type": "code",
   "execution_count": 37,
   "id": "316a1e56-0400-4a0d-a4d2-6d7ae223571f",
   "metadata": {},
   "outputs": [
    {
     "name": "stdout",
     "output_type": "stream",
     "text": [
      "             Built In                           Manual                \n",
      "Insert:0.012822800000321877 ~ Insert:0.012795399999959045\n",
      "search:0.014530699999340868 ~ search:0.013763500000095519\n",
      "delete:0.017302899999776855 ~ delete:0.06651059999967401\n",
      "\n"
     ]
    }
   ],
   "source": [
    "#output time comparison\n",
    "import timeit\n",
    "print(f'''             Built In                           Manual                \n",
    "Insert:{timeit.timeit(lambda:ib,number=100000)} ~ Insert:{timeit.timeit(lambda:im,number=100000)}\n",
    "search:{timeit.timeit(lambda:sb,number=100000)} ~ search:{timeit.timeit(lambda:sm,number=100000)}\n",
    "delete:{timeit.timeit(lambda:db,number=100000)} ~ delete:{timeit.timeit(lambda:dm,number=100000)}\n",
    "''')"
   ]
  },
  {
   "cell_type": "code",
   "execution_count": null,
   "id": "a658f4e7-0b1f-4a8e-a71f-25ba56206001",
   "metadata": {},
   "outputs": [],
   "source": []
  }
 ],
 "metadata": {
  "kernelspec": {
   "display_name": "Python 3 (ipykernel)",
   "language": "python",
   "name": "python3"
  },
  "language_info": {
   "codemirror_mode": {
    "name": "ipython",
    "version": 3
   },
   "file_extension": ".py",
   "mimetype": "text/x-python",
   "name": "python",
   "nbconvert_exporter": "python",
   "pygments_lexer": "ipython3",
   "version": "3.12.6"
  }
 },
 "nbformat": 4,
 "nbformat_minor": 5
}
