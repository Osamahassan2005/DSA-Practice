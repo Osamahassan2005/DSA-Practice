{
 "cells": [
  {
   "cell_type": "code",
   "execution_count": 25,
   "id": "1472543a-32ce-4fa2-87d2-86a5ef6abcdd",
   "metadata": {},
   "outputs": [],
   "source": [
    "import timeit"
   ]
  },
  {
   "cell_type": "code",
   "execution_count": 22,
   "id": "27d9d179-4210-44e3-b9e0-6ad1f5db7339",
   "metadata": {},
   "outputs": [],
   "source": [
    "def bin_search(data,item):\n",
    "    beg=0\n",
    "    end=len(data)-1\n",
    "    loc=None\n",
    "    mid=int((beg+end)/2)\n",
    "    while beg<=end:\n",
    "        mid=int((beg+end)/2)\n",
    "        if data[mid]==item:\n",
    "            loc=mid\n",
    "            break\n",
    "        elif item<data[mid]:\n",
    "             end=mid-1\n",
    "        else:\n",
    "            beg=mid+1\n",
    "    return loc\n",
    "def built_in_search(data,item):\n",
    "    try:\n",
    "       loc=data.index(item)\n",
    "    except ValueError:\n",
    "        loc=None\n",
    "    return loc"
   ]
  },
  {
   "cell_type": "code",
   "execution_count": 27,
   "id": "5ba0297e-b366-41e4-9bdd-2616b5d94f4c",
   "metadata": {},
   "outputs": [
    {
     "name": "stdout",
     "output_type": "stream",
     "text": [
      "Enter a list separated by space: 9 8 7 6 \n",
      "Enter the elements that you want: 2\n"
     ]
    }
   ],
   "source": [
    "data=list(map(int,input('Enter a list separated by space:').split()))\n",
    "data.sort()\n",
    "item=int(input('Enter the elements that you want:'))\n",
    "bin_found=bin_search(data,item)\n",
    "built_found=built_in_search(data,item)\n",
    "\n",
    "print(f'Binary Search item : {bin_found}')   \n",
    "print(f'built in Search item : {built_found}')   \n",
    "print('Execution Time binary search: ',timeit.timeit(lambda: bin_search(data,item),number=10000))\n",
    "print('Execution Time binary search: ',timeit.timeit(lambda: built_in_search(data,item),number=10000))"
   ]
  },
  {
   "cell_type": "code",
   "execution_count": 32,
   "id": "45797186-f8cb-4b7d-a595-b735b833bb3d",
   "metadata": {},
   "outputs": [
    {
     "name": "stdout",
     "output_type": "stream",
     "text": [
      "Enter a list separated by space: 10 50 40 30\n",
      "Enter the elements that you want: 20\n"
     ]
    },
    {
     "name": "stdout",
     "output_type": "stream",
     "text": [
      "Element not found ,insert (20) into the List.\n",
      "Updated List :[10, 20, 30, 40, 50]\n"
     ]
    }
   ],
   "source": [
    "def bin_search_insert(data,item):\n",
    "    beg=0\n",
    "    end=len(data)-1\n",
    "    loc=None\n",
    "    mid=int((beg+end)/2)\n",
    "    while beg<=end:\n",
    "        mid=int((beg+end)/2)\n",
    "        if data[mid]==item:\n",
    "            loc=mid\n",
    "            break\n",
    "        elif item<data[mid]:\n",
    "             end=mid-1\n",
    "        else:\n",
    "            beg=mid+1\n",
    "    if loc is None:\n",
    "        data.insert(beg,item)\n",
    "        return None,data\n",
    "    else:\n",
    "        return loc,data\n",
    "data=list(map(int,input('Enter a list separated by space:').split()))\n",
    "data.sort()\n",
    "item=int(input('Enter the elements that you want:'))\n",
    "loc,data=bin_search_insert(data,item)\n",
    "if loc is not None:\n",
    "    print(f'Element found at index {loc}.')\n",
    "else:\n",
    "    print(f'Element not found ,insert ({item}) into the List.')\n",
    "    print(f'Updated List :{data}')"
   ]
  },
  {
   "cell_type": "code",
   "execution_count": null,
   "id": "a3a72bbe-90c0-46c7-a158-d66b6aeb46bb",
   "metadata": {},
   "outputs": [],
   "source": []
  }
 ],
 "metadata": {
  "kernelspec": {
   "display_name": "Python 3 (ipykernel)",
   "language": "python",
   "name": "python3"
  },
  "language_info": {
   "codemirror_mode": {
    "name": "ipython",
    "version": 3
   },
   "file_extension": ".py",
   "mimetype": "text/x-python",
   "name": "python",
   "nbconvert_exporter": "python",
   "pygments_lexer": "ipython3",
   "version": "3.12.6"
  }
 },
 "nbformat": 4,
 "nbformat_minor": 5
}
